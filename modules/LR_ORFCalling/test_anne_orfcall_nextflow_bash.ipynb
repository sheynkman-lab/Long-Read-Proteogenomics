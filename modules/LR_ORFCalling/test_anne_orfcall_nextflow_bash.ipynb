{
 "cells": [
  {
   "cell_type": "markdown",
   "metadata": {},
   "source": [
    "# testing Anne's nextflow script to do orfcalling"
   ]
  },
  {
   "cell_type": "code",
   "execution_count": 1,
   "metadata": {},
   "outputs": [
    {
     "name": "stdout",
     "output_type": "stream",
     "text": [
      "Collecting package metadata (current_repodata.json): done\n",
      "Solving environment: done\n",
      "\n",
      "\n",
      "==> WARNING: A newer version of conda exists. <==\n",
      "  current version: 4.8.2\n",
      "  latest version: 4.9.2\n",
      "\n",
      "Please update conda by running\n",
      "\n",
      "    $ conda update -n base conda\n",
      "\n",
      "\n",
      "\n",
      "# All requested packages already installed.\n",
      "\n"
     ]
    }
   ],
   "source": [
    "sudo conda install -c bioconda nextflow"
   ]
  },
  {
   "cell_type": "code",
   "execution_count": 18,
   "metadata": {},
   "outputs": [
    {
     "name": "stdout",
     "output_type": "stream",
     "text": [
      "tput: unknown terminal \"unknown\"\n",
      "tput: unknown terminal \"unknown\"\n",
      "tput: unknown terminal \"unknown\"\n",
      "tput: unknown terminal \"unknown\"\n",
      "tput: unknown terminal \"unknown\"\n",
      "N E X T F L O W  ~  version 19.01.0\n",
      "Launching `lr_orfcalling.nf` [extravagant_hypatia] - revision: 65642ac429\n",
      "\n",
      "Usage:\n",
      "The typical command for running the pipeline is as follows:\n",
      "nextflow run lr_orfcalling.nf --fasta ../../data/jurkat_corrected.fasta -profile lr_orfcalling_nextflow.config\n",
      "\n",
      "Input files:\n",
      "  --fasta                       path to the fasta file\n",
      "  --run_name                    name for the run\n",
      "\n",
      "Transdecoder:                   no additional arguments required\n",
      "\n",
      "CPAT:                           \n",
      "  --hexamer                     species specific hexamer file (cpat can also generate a new one)\n",
      "  --gtf\n",
      "\n",
      "Other:\n",
      "                                (default: false)\n",
      "  --max_cpus                    Maximum number of CPUs (int)\n",
      "                                (default: ?)  \n",
      "  --max_memory                  Maximum memory (memory unit)\n",
      "                                (default: 80)\n",
      "  --max_time                    Maximum time (time unit)\n",
      "                                (default: ?)\n",
      "  --skipMultiQC                 Skip MultiQC (bool)\n",
      "                                (default: false)\n",
      "  --outdir                      The output directory where the results will be saved (string)\n",
      "                                (default: directory where you submit the job)\n",
      "  --mega_time                   Sets time limit for processes withLabel 'mega_memory' in the main.nf using the base.config (time unit)     \n",
      "                                (default: 20.h)\n",
      "  --gc_disk_size                Only specific to google-cloud executor. Adds disk-space for few aggregative processes.\n",
      "                                (default: \"200 GB\" based on 100 samples. Simply add 2 x Number of Samples)\n",
      "\n",
      "See here for more info: https://github.com/sheynkman-lab/Long-Read-Proteogenomics/blob/master/docs/usage.md\n",
      "\n"
     ]
    }
   ],
   "source": [
    "nextflow run lr_orfcalling.nf --help -profile lr_orfcalling_nextflow.config"
   ]
  },
  {
   "cell_type": "code",
   "execution_count": 25,
   "metadata": {},
   "outputs": [
    {
     "name": "stdout",
     "output_type": "stream",
     "text": [
      "tput: unknown terminal \"unknown\"\n",
      "tput: unknown terminal \"unknown\"\n",
      "tput: unknown terminal \"unknown\"\n",
      "tput: unknown terminal \"unknown\"\n",
      "tput: unknown terminal \"unknown\"\n",
      "N E X T F L O W  ~  version 19.01.0\n",
      "Launching `lr_orfcalling.nf` [tender_wiles] - revision: cfd46aa988\n",
      "WARN: Access to undefined parameter `help` -- Initialise it to a default value eg. `params.help = some_value`\n",
      "lr_orfcalling - N F  ~  version 0.1\n",
      "=====================================\n",
      "Run name                    : test\n",
      "Date                        : 11-16-20\n",
      "Final prefix                : test_11-16-20\n",
      "Fasta                       : /mnt/shared/ubuntu/session_data/Long-Read-Proteogenomics/data/jurkat_corrected.fasta\n",
      "My fasta file is: /mnt/shared/ubuntu/session_data/Long-Read-Proteogenomics/data/jurkat_corrected.fasta\n",
      "[warm up] executor > local\n",
      "[ed/22fc92] Submitted process > runTransDecoder (runTransDecoder)\n",
      "ERROR ~ Error executing process > 'runTransDecoder (runTransDecoder)'\n",
      "\n",
      "Caused by:\n",
      "  Process `runTransDecoder (runTransDecoder)` terminated with an error exit status (127)\n",
      "\n",
      "Command executed:\n",
      "\n",
      "  ORFtransdecoder.LongOrfs -t /mnt/shared/ubuntu/session_data/Long-Read-Proteogenomics/data/jurkat_corrected.fasta\n",
      "  ORFtransdecoder.Predict -t /mnt/shared/ubuntu/session_data/Long-Read-Proteogenomics/data/jurkat_corrected.fasta\n",
      "\n",
      "Command exit status:\n",
      "  127\n",
      "\n",
      "Command output:\n",
      "  (empty)\n",
      "\n",
      "Command error:\n",
      "  .command.sh: line 2: ORFtransdecoder.LongOrfs: command not found\n",
      "\n",
      "Work dir:\n",
      "  /mnt/shared/ubuntu/session_data/Long-Read-Proteogenomics/modules/LR_ORFCalling/work/ed/22fc929a753877a031dd6a476db569\n",
      "\n",
      "Tip: you can replicate the issue by changing to the process work dir and entering the command `bash .command.run`\n",
      "\n",
      " -- Check '.nextflow.log' file for details\n"
     ]
    },
    {
     "ename": "",
     "evalue": "1",
     "output_type": "error",
     "traceback": []
    }
   ],
   "source": [
    "FASTA_PATH=\"/mnt/shared/ubuntu/session_data/Long-Read-Proteogenomics/data/jurkat_corrected.fasta\"\n",
    "\n",
    "nextflow run lr_orfcalling.nf --fasta $FASTA_PATH --run_name test -profile lr_orfcalling_nextflow.confg"
   ]
  },
  {
   "cell_type": "code",
   "execution_count": 21,
   "metadata": {},
   "outputs": [
    {
     "name": "stdout",
     "output_type": "stream",
     "text": [
      "lr_orfcalling_nextflow.config  README.md                              work\n",
      "lr_orfcalling.nf               test_anne_orfcall_nextflow_bash.ipynb\n",
      "orf_calling.py                 tmp\n"
     ]
    }
   ],
   "source": [
    "ls"
   ]
  },
  {
   "cell_type": "code",
   "execution_count": null,
   "metadata": {},
   "outputs": [],
   "source": []
  }
 ],
 "metadata": {
  "kernelspec": {
   "display_name": "Bash",
   "language": "bash",
   "name": "bash"
  },
  "language_info": {
   "codemirror_mode": "shell",
   "file_extension": ".sh",
   "mimetype": "text/x-sh",
   "name": "bash"
  }
 },
 "nbformat": 4,
 "nbformat_minor": 4
}
