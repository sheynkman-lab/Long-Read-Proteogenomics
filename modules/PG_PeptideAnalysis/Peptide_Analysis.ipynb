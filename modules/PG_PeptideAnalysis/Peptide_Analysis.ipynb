{
 "cells": [
  {
   "cell_type": "code",
   "execution_count": 79,
   "metadata": {},
   "outputs": [],
   "source": [
    "## Import Modules ##\n",
    "#import weget # TODO: Add paths to MM outputs from wget\n",
    "import numpy as np\n",
    "import pandas as pd\n",
    "from pathlib import Path\n",
    "import csv\n",
    "from collections import defaultdict\n",
    "\n",
    "## Import Custom Modules ##\n",
    "from m_gen_maps import GenMap\n",
    "\n",
    "## Input Files ##\n",
    "trans_to_gene_file = './trans_to_gene.tsv'\n",
    "gtf_file = '../jurkat_analysis/a_gencode_gene_models/gencode.v35.annotation.gtf' # only need this if trans_to_gene file does not exist\n",
    "pbacc_to_gene_file = './uniprot_acc_to_gencode_gene.tsv'\n",
    "\n",
    "## MM Inputs ##\n",
    "pep = './../Map_PacBio_Gene_Space/New_ForGloria/GENCODE_New_28Tryp/Task2-SearchTask/AllPeptides.psmtsv'\n",
    "un_pep = './../Map_PacBio_Gene_Space/ForGloria/28FractionBUTrypsin/UniProtReviewed/Task2-SearchTask/AllPeptides.psmtsv'\n",
    "pb_pep = './../Map_PacBio_Gene_Space/ForGloria/28FractionBUTrypsin/PacBio_new/Task2-SearchTask/AllPeptides.psmtsv'\n",
    "\n",
    "## TODO's ##\n",
    "# Fix uniprot gene mapping issues \n",
    "# Add path in GenMAp file to control output location \n",
    "# Put all of the analysis portion (including dictionaries?) into separate module \n",
    "# Start adding in code for peptide comparison\n",
    "\n"
   ]
  },
  {
   "cell_type": "code",
   "execution_count": 97,
   "metadata": {
    "tags": []
   },
   "outputs": [],
   "source": [
    "## Prepare Dictionaries for Genecode MM Outputs ##\n",
    "\n",
    "# If Trans to Gene file does not exist, make it \n",
    "if Path(trans_to_gene_file).is_file()==False:\n",
    "    # TODO: Add path in GenMap file to control output location\n",
    "    GenMap(gtf_file, 'trans_to_gene')\n",
    "\n",
    "# Make dictionary of transcript_name -> gene \n",
    "trans_to_gene = pd.read_csv(trans_to_gene_file, sep='\\t')\n",
    "trans_to_gene.columns = ['A', 'B']\n",
    "gdict = pd.Series(trans_to_gene.A.values, index = trans_to_gene.B).to_dict()\n",
    "\n",
    "## Prepare Dictionaries for Uniprot MM Outputs ##\n",
    "pbacc_to_gene = pd.read_csv(pbacc_to_gene_file, sep='\\t').dropna()\n",
    "udict = pbacc_to_gene[['uniprot_gene', 'gencode_genes']].set_index('uniprot_gene').T.to_dict('list')\n"
   ]
  },
  {
   "cell_type": "code",
   "execution_count": 40,
   "metadata": {},
   "outputs": [],
   "source": [
    "# Import Peptides Dataset\n",
    "cols = ['Base Sequence', 'Protein Accession', 'Decoy/Contaminant/Target', 'QValue']\n",
    "data = pd.read_csv(pep, delimiter=r\"\\t\", usecols = cols)\n",
    "data.columns = ['seq', 'pb_acc', 'dct', 'qval']\n",
    "\n",
    "# Filter Data\n",
    "fdata = data[data['qval'] <= 0.01]\n",
    "tdata = fdata[fdata['dct'] == 'T']\n",
    "\n",
    "# Extract pb_acc col and split each row \n",
    "cut = tdata[['pb_acc']]\n",
    "split = cut.pb_acc.str.split('\\||\\.', expand=True)\n",
    "\n",
    "# Replace pb_acc (transcript_name) -> gene_name and remove duplicates\n",
    "# TODO: There are some transcripts that don't map to genes. Ignoring those for now\n",
    "gen = split.apply(lambda x: x.map(gdict, na_action='ignore')) \n",
    "tdata['gene'] = gen.stack().groupby(level=0).apply(lambda x: x.unique().tolist())\n",
    "\n",
    "\n",
    "# Gene based results\n",
    "p = tdata.gene.apply(pd.Series)\n",
    "p.insert(0,'seq', tdata.seq.values)\n",
    "\n",
    "# sort the sequences by gene\n",
    "sort = p.melt(id_vars=['seq'], value_name=\"gene\").dropna().reset_index(drop=True).drop('variable',1)\n",
    "pro = sort.groupby('gene')\n"
   ]
  },
  {
   "cell_type": "code",
   "execution_count": 109,
   "metadata": {},
   "outputs": [
    {
     "name": "stdout",
     "output_type": "stream",
     "text": [
      "(76690, 4)\n",
      "(76690, 9)\n",
      "<pandas.core.groupby.generic.SeriesGroupBy object at 0x000002279E3F6CA0>\n"
     ]
    }
   ],
   "source": [
    "# Import Peptides Dataset\n",
    "cols = ['Base Sequence', 'Gene Name', 'Decoy/Contaminant/Target', 'QValue']\n",
    "data = pd.read_csv(un_pep, delimiter=r\"\\t\", usecols = cols)\n",
    "data.columns = ['seq', 'gene', 'dct', 'qval']\n",
    "\n",
    "# Remove 'primary:' from gene column \n",
    "data['gene'] = data['gene'].str.replace('primary:', '')\n",
    "\n",
    "# Filter Data\n",
    "fdata = data[data['qval'] <= 0.01]\n",
    "tdata = fdata[fdata['dct'] == 'T']\n",
    "print(tdata.shape)\n",
    "\n",
    "# Extract pb_acc col and split each row \n",
    "cut = tdata[['gene']]\n",
    "split = cut.gene.str.split('\\||\\.', expand=True)\n",
    "\n",
    "\n",
    "# Replace transcript name with gencode gene name, keep any genes that don't match to gencode\n",
    "gen = split.apply(lambda x: x.map(udict, na_action='ignore')).fillna(split)\n",
    "print(gen.shape)\n",
    "\n",
    "stack = gen.stack().groupby(level=0) #.apply(lambda x: x.unique().tolist())\n",
    "print(stack)\n",
    "\n",
    "\n",
    "\n"
   ]
  },
  {
   "cell_type": "code",
   "execution_count": 61,
   "metadata": {},
   "outputs": [],
   "source": [
    "# Import Peptides Dataset\n",
    "cols = ['Base Sequence', 'Gene Name', 'Decoy/Contaminant/Target', 'QValue']\n",
    "data = pd.read_csv(pb_pep, delimiter=r\"\\t\", usecols = cols)\n",
    "data.columns = ['seq', 'gene', 'dct', 'qval']\n",
    "\n",
    "# Remove 'primary:' from gene column \n",
    "data['gene'] = data['gene'].str.replace('primary:', '')\n",
    "\n",
    "# Filter Data\n",
    "fdata = data[data['qval'] <= 0.01]\n",
    "tdata = fdata[fdata['dct'] == 'T']\n",
    "\n",
    "# Extract pb_acc col and split each row \n",
    "cut = tdata[['gene']]\n",
    "split = cut.gene.str.split('\\||\\.', expand=True)\n",
    "\n",
    "# Remove duplicate genes and sort by gene\n",
    "tdata['gene'] = split.stack().groupby(level=0).apply(lambda x: x.unique().tolist())\n",
    "\n",
    "# Gene based results\n",
    "p = tdata.gene.apply(pd.Series)\n",
    "p.insert(0,'seq', tdata.seq.values)\n",
    "\n",
    "# sort the sequences by gene\n",
    "sort = p.melt(id_vars=['seq'], value_name=\"gene\").dropna().reset_index(drop=True).drop('variable',1)\n",
    "pro = sort.groupby('gene')"
   ]
  }
 ],
 "metadata": {
  "kernelspec": {
   "display_name": "Python 3",
   "language": "python",
   "name": "python3"
  },
  "language_info": {
   "codemirror_mode": {
    "name": "ipython",
    "version": 3
   },
   "file_extension": ".py",
   "mimetype": "text/x-python",
   "name": "python",
   "nbconvert_exporter": "python",
   "pygments_lexer": "ipython3",
   "version": "3.7.4"
  }
 },
 "nbformat": 4,
 "nbformat_minor": 2
}
