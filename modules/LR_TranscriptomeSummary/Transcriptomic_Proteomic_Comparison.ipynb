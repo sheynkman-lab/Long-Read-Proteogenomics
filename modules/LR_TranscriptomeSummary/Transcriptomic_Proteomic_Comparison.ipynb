{
 "metadata": {
  "language_info": {
   "codemirror_mode": {
    "name": "ipython",
    "version": 3
   },
   "file_extension": ".py",
   "mimetype": "text/x-python",
   "name": "python",
   "nbconvert_exporter": "python",
   "pygments_lexer": "ipython3",
   "version": "3.8.3-final"
  },
  "orig_nbformat": 2,
  "kernelspec": {
   "name": "python3",
   "display_name": "Python 3"
  }
 },
 "nbformat": 4,
 "nbformat_minor": 2,
 "cells": [
  {
   "cell_type": "code",
   "execution_count": 1,
   "metadata": {},
   "outputs": [],
   "source": [
    "## Processing proteomic and genomic data for jurkat ##\n",
    "# 0. Prepare Mapping Files \n",
    "# 1. Prepare Isoform Information Table from sqanti Output\n",
    "# 2. Make Gene Length Statistics File\n",
    "# 3. Abundace Data by Gene\n",
    "# 4. Include PolyA Tail Info\n",
    "# 5. Proteomics Analysis\n",
    "\n",
    "#### Import Modules ####\n",
    "# Python Modules #\n",
    "import numpy as np\n",
    "import pandas as pd \n",
    "from pathlib import Path\n",
    "\n",
    "# Custom Modules #\n",
    "from m_gen_maps import GenMap\n",
    "from m_sqantitable import sqtab\n",
    "from m_make_gene_length_table import GenLenTab \n",
    "from m_MMprocess import MMproc\n",
    "\n",
    "#### Input Files ####\n",
    "sqanti_out = './../jurkat_analysis/a_SQANTI3_out/jurkat_classification.txt'\n",
    "tpm_file =  '../jurkat_analysis/a_jurkat_tpms_kallisto/c_gene_and_iso_kallisto_tables/a_jurkat_gene_kallisto.tsv'\n",
    "ribodep_tpm = '../jurkat_analysis/a_polyA-_data/b_ribodeplete_jurkat_geo/d_kallist_table_rdeplete_jurkat.tsv' # expects normalized data\n",
    "pbacc_to_gene_file = './uniprot_acc_to_gencode_gene.tsv'\n",
    "\n",
    "\n",
    "## Optional Inputs ##\n",
    "# Can be either input or output locations\n",
    "# If file exists, use as input. If file does not exist, use to custimize output location. \n",
    "ensg_to_gene = \"./ensg_to_gene.tsv\"\n",
    "enst_to_trans = \"./enst_to_trans.tsv\"\n",
    "\n",
    "gene_len_stats_tab =  './gen_len_stats.tsv'\n",
    "\n",
    "\n",
    "#### Output Files ####\n",
    "sqantitab = \"./sqanti_isoform_tab.tsv\"\n",
    "gen_level_tab = './gene_based_info.tsv'\n",
    "comparison_tab = \"./comparison_table.tsv\"\n",
    "\n",
    "#### TODO ###\n",
    "# Separate Transcriptomic Data from Genomic Data\n",
    "# Clean up inputs and outputs list \n",
    "\n",
    "####\n",
    "\n"
   ]
  },
  {
   "cell_type": "code",
   "execution_count": 3,
   "metadata": {},
   "outputs": [
    {
     "output_type": "stream",
     "name": "stdout",
     "text": [
      "Isoform Table from sqanti output has been prepared\n"
     ]
    }
   ],
   "source": [
    "#### Part 1 : Prepare Isoform Information Table from sqanti Output ####\n",
    "sq_isotab = sqtab(sqanti_out, ensg_to_gene, enst_to_trans, sqantitab)\n",
    "# TODO: Some pb_acc map to more than 1 gene"
   ]
  },
  {
   "cell_type": "code",
   "execution_count": 4,
   "metadata": {},
   "outputs": [
    {
     "output_type": "stream",
     "name": "stdout",
     "text": [
      "The gene statistics table has already been prepared. Skipping this step\n"
     ]
    }
   ],
   "source": [
    "#### Part 2: Make Gene Length Statistics File ####\n",
    "gene_len_stats = GenLenTab(fa_file, gen_len_stats_tab = './gen_len_stats.tsv',gen_isolen_tab='./gen_len.tsv')\n"
   ]
  },
  {
   "cell_type": "code",
   "execution_count": 5,
   "metadata": {},
   "outputs": [],
   "source": [
    "#### Part 3: Abundace Data by Gene ####\n",
    "# TODO: Make into function?\n",
    "\n",
    "## Pacbio Abundace from sqanti output ##\n",
    "#sum(cpm per isoform) -> cpm per gene\n",
    "cpm_data = sq_isotab[['gene', 'cpm']]\n",
    "cpm_by_gene = cpm_data.groupby(['gene']).agg(cpm = ('cpm', 'sum')).reset_index(level=['gene'])\n",
    "\n",
    "## Illumina Abundance from Kallisto output ##\n",
    "tpm_by_gene = pd.read_csv(tpm_file, delimiter='\\t')\n",
    "tpm_by_gene['gene'] = tpm_by_gene['gene'].str.replace('-', '_')\n",
    "\n",
    "## Merge Abundace Data ##\n",
    "abund = pd.merge(cpm_by_gene, tpm_by_gene, how='right', on='gene')\n",
    "\n",
    "# Make sure there is no gene mapping issues. \n",
    "test = pd.merge(cpm_by_gene, tpm_by_gene, how='inner', on='gene')\n",
    "pb_only = cpm_by_gene[~cpm_by_gene['gene'].isin(test['gene'])]\n",
    "\n",
    "## Merge with Gene Length Data and Save ##\n",
    "gen_lenab = pd.merge(gene_len_stats, abund, how=\"outer\", on='gene')"
   ]
  },
  {
   "cell_type": "code",
   "execution_count": 6,
   "metadata": {},
   "outputs": [],
   "source": [
    "#### Part 4: Include PolyA Tail Info ####\n",
    "\n",
    "## Ribodepletion Data ##\n",
    "ribo = pd.read_csv(ribodep_tpm, sep='\\t')\n",
    "rgen = ribo.groupby(['gene']).agg(rtpm=('tpm', 'sum')).reset_index()\n",
    "rgen['log(rtpm+1)'] = np.log10(rgen['rtpm'] + 1)\n",
    "\n",
    "# Add 1 to tpm data #\n",
    "tpm_by_gene['log(tpm+1)'] = np.log10(tpm_by_gene['tpm'] + 1)\n",
    "\n",
    "# Merge and calc rtpm/tpm on log scale\n",
    "pA = pd.merge(rgen, tpm_by_gene, how = 'outer', on='gene')\n",
    "pA['ratio'] = pA['log(rtpm+1)']/pA['log(tpm+1)']\n",
    "npA = pA[pA['ratio']>120].reset_index()\n",
    "\n",
    "# Add PolyA info to Gene Length table \n",
    "pA_gen = gen_lenab.assign(r_ispolyA =~ gen_lenab.gene.isin(npA.gene))\n",
    "\n",
    "# Output Gene-Level Table \n",
    "pA_gen.to_csv(gen_level_tab, sep='\\t', index=False, na_rep=0)"
   ]
  }
 ]
}