{
 "cells": [
  {
   "cell_type": "code",
   "execution_count": 1,
   "metadata": {},
   "outputs": [],
   "source": [
    "\n",
    "import pandas as pd\n",
    "import argparse\n",
    "\n",
    "def process_metamorpheus_file(filename):\n",
    "    \"\"\"\n",
    "    Process MetaMorpheus AllPeptides file \n",
    "    Keeps only target peptieds with FDR <= 0.01\n",
    "    Explodes 'Protein Accession' column into individual rows\n",
    "\n",
    "    Parameters\n",
    "    ----------\n",
    "    filename : str\n",
    "        MetaMorpheus AllPeptides file location\n",
    "    \n",
    "    Returns\n",
    "    --------\n",
    "    original : pandas DataFrame\n",
    "        exploded AllPeptieds dataframe\n",
    "    \"\"\"\n",
    "    original = pd.read_csv(filename, sep = '\\t')\n",
    "    below_fdr = original['QValue'] <= 0.01\n",
    "    target = original['Decoy/Contaminant/Target'] == 'T'\n",
    "    original = original[below_fdr & target]\n",
    "    original['Protein Accession'] = original['Protein Accession'].str.split('|')\n",
    "    original = original.explode('Protein Accession')\n",
    "    return original\n",
    "\n",
    "\n",
    "def find_best_protein(remaining, original, protein_column):\n",
    "    \"\"\"\n",
    "    Finds best protein in remaining graph based on number\n",
    "    of peptides a protein matches to (# of edges a protein has). Choose max\n",
    "    If there are proteins with an equal number of maximum matched peptides\n",
    "    then those proteins compared to the original graph for number of edges \n",
    "    a protein has\n",
    "    \"\"\"\n",
    "    sizes = remaining.groupby(protein_column).size().reset_index().rename(columns = {0:'size'})\n",
    "    max_size = sizes['size'].max()\n",
    "    best_proteins = list(sizes[sizes['size'] == max_size ][protein_column])\n",
    "    if len(best_proteins) > 1:\n",
    "        subset = original[original[protein_column].isin(best_proteins)]\n",
    "        subsizes = subset.groupby(protein_column).size().reset_index().rename(columns = {0:'size'})\n",
    "        max_subsize = subsizes['size'].max()\n",
    "        best_proteins = list(subsizes[subsizes['size'] == max_subsize][protein_column])\n",
    "    return best_proteins[0]\n",
    "\n",
    "def rescue_indistinguishable(inferred, dropped):\n",
    "    \"\"\"\n",
    "    If a dropped protein has the exact match of peptides to an inferred protein then that protein is\n",
    "    added into the inferred graph\n",
    "    \"\"\"\n",
    "    pass\n",
    "\n",
    "def greedy_inference(original, protein_column = 'Protein Accession', peptide_column = 'Base Sequence'):\n",
    "    \"\"\"\n",
    "    Greedy protein inference algorithm for matching peptids to corresponding proteins\n",
    "\n",
    "    Notaion:\n",
    "    G : original graph\n",
    "    Gi : inferred graph\n",
    "    Gr : remaining graph\n",
    "    Gd: dropped graph\n",
    "    p : greedily selcted protein\n",
    "    s : peptides connected to p\n",
    "\n",
    "\n",
    "    Select peptides in G that only match to single protein\n",
    "    Add proteins corresponding to peptides and all attached peptides to Gi\n",
    "    Remove said proteins from  Gr\n",
    "    While Gr has edges connected proteins and peptides\n",
    "        Greedily select best protein p\n",
    "        Add p and connected peptides Gi\n",
    "        Add peptide-protein edges where protein is not p and peptide is in s in Gd\n",
    "        Remove edgees where peptides is in s from Gr\n",
    "    \n",
    "    Remake Gi and make Gd\n",
    "        Gi remade to contain all protein-peptide edges that connect to an inferred protein\n",
    "        Gd made to contain all protein-peptide edges that do not connect to an inferred protein\n",
    "\n",
    "    Parameters\n",
    "    ---------\n",
    "    original : pandas DataFrame\n",
    "        original peptide-protien graph\n",
    "    protein_column : str\n",
    "        column associated with protein accession\n",
    "    peptide_column : str\n",
    "        column associated with peptide\n",
    "\n",
    "    Returns\n",
    "    --------\n",
    "    inferred: pandas DataFrame\n",
    "        Gi, subgraph of G of proteins and their associated peptides\n",
    "    dropped: pandas DataFrame\n",
    "        Gd, subgraph of G of proteins and their associated peptides\n",
    "\n",
    "    \"\"\"\n",
    "\n",
    "    dropped = pd.DataFrame(columns = original.columns)\n",
    "    peptide_sizes = original.groupby(peptide_column).size().reset_index().rename(columns = {0:'size'})\n",
    "    single = peptide_sizes[peptide_sizes['size'] == 1]\n",
    "    inferred = original[original[peptide_column].isin(single[peptide_column])]\n",
    "    inferred = original[original[protein_column].isin(inferred[protein_column])]\n",
    "    remaining = original[~original[protein_column].isin(inferred[protein_column])]\n",
    "    inferred = [ inferred ]\n",
    "\n",
    "    while len(remaining) > 0:\n",
    "        best_protein = find_best_protein(remaining, original, protein_column)\n",
    "        matches = remaining[remaining[protein_column] == best_protein]\n",
    "        tmp_peptides = list(matches[peptide_column])\n",
    "        inferred.append(matches)\n",
    "\n",
    "        is_matched_peptide = remaining[peptide_column].isin(tmp_peptides)\n",
    "        is_best_protein = remaining[protein_column] == best_protein\n",
    "        \n",
    "        remaining = remaining[~is_matched_peptide]\n",
    "        \n",
    "    inferred = pd.concat(inferred)\n",
    "\n",
    "    inferred_proteins = inferred[protein_column].unique()\n",
    "    inferred = original[original[protein_column].isin(inferred_proteins)]\n",
    "    dropped = original[~original[protein_column].isin(inferred_proteins)]\n",
    "    \n",
    "    return inferred, dropped"
   ]
  },
  {
   "cell_type": "code",
   "execution_count": 2,
   "metadata": {},
   "outputs": [],
   "source": [
    "filename = '/Users/bj8th/Documents/Lab-for-Proteoform-Systems-Biology/data/peptides/AllPeptides_PacBio.psmtsv'\n",
    "original = process_metamorpheus_file(filename)"
   ]
  },
  {
   "cell_type": "code",
   "execution_count": null,
   "metadata": {},
   "outputs": [],
   "source": [
    "o"
   ]
  },
  {
   "cell_type": "code",
   "execution_count": 15,
   "metadata": {},
   "outputs": [
    {
     "output_type": "stream",
     "name": "stdout",
     "text": [
      "57.87800621986389\n"
     ]
    }
   ],
   "source": [
    "print(stop-start)"
   ]
  },
  {
   "cell_type": "code",
   "execution_count": 17,
   "metadata": {},
   "outputs": [
    {
     "output_type": "stream",
     "name": "stdout",
     "text": [
      "Original 71672\nInferred 44071\nDropped 27601\nDropped + Inferred 71672\n"
     ]
    }
   ],
   "source": [
    "print(f\"Original {len(original)}\")\n",
    "print(f\"Inferred {len(inferred)}\")\n",
    "print(f\"Dropped {len(dropped)}\")\n",
    "print(f\"Dropped + Inferred {len(dropped) + len(inferred)}\")\n"
   ]
  },
  {
   "cell_type": "code",
   "execution_count": 18,
   "metadata": {},
   "outputs": [
    {
     "output_type": "execute_result",
     "data": {
      "text/plain": [
       "                     File Name  Scan Number  Scan Retention Time  \\\n",
       "0  120426_Jurkat_highLC_Frac14        19149            140.45874   \n",
       "1   120426_Jurkat_highLC_Frac9        19892            150.09205   \n",
       "2  120426_Jurkat_highLC_Frac17        22894            167.51914   \n",
       "3  120426_Jurkat_highLC_Frac23        14654            119.26644   \n",
       "4  120426_Jurkat_highLC_Frac20        18563            142.91097   \n",
       "\n",
       "   Num Experimental Peaks  Total Ion Current  Precursor Scan Number  \\\n",
       "0                   186.0       2.620926e+06                  19146   \n",
       "1                   186.0       1.972297e+05                  19887   \n",
       "2                   200.0       1.162710e+07                  22893   \n",
       "3                   200.0       3.137383e+06                  14651   \n",
       "4                   200.0       1.478450e+06                  18561   \n",
       "\n",
       "   Precursor Charge  Precursor MZ  Precursor Mass   Score  ...  \\\n",
       "0               3.0    1187.22629      3558.65705  39.219  ...   \n",
       "1               3.0    1221.90388      3662.68981  39.198  ...   \n",
       "2               4.0     802.65041      3206.57254  39.164  ...   \n",
       "3               4.0     771.14514      3080.55145  38.355  ...   \n",
       "4               3.0    1240.64250      3718.90568  37.266  ...   \n",
       "\n",
       "   Localized Scores  Improvement Possible Cumulative Target Cumulative Decoy  \\\n",
       "0                                                         1                0   \n",
       "1                                                         2                0   \n",
       "2                                                         3                0   \n",
       "3                                                         4                0   \n",
       "4                                                         5                0   \n",
       "\n",
       "  QValue  Cumulative Target Notch Cumulative Decoy Notch QValue Notch  \\\n",
       "0    0.0                        1                      0          0.0   \n",
       "1    0.0                        2                      0          0.0   \n",
       "2    0.0                        3                      0          0.0   \n",
       "3    0.0                        4                      0          0.0   \n",
       "4    0.0                        5                      0          0.0   \n",
       "\n",
       "        PEP  PEP_QValue  \n",
       "0  0.000028    0.000017  \n",
       "1  0.000006    0.000003  \n",
       "2  0.000004    0.000002  \n",
       "3  0.002980    0.000382  \n",
       "4  0.000013    0.000008  \n",
       "\n",
       "[5 rows x 54 columns]"
      ],
      "text/html": "<div>\n<style scoped>\n    .dataframe tbody tr th:only-of-type {\n        vertical-align: middle;\n    }\n\n    .dataframe tbody tr th {\n        vertical-align: top;\n    }\n\n    .dataframe thead th {\n        text-align: right;\n    }\n</style>\n<table border=\"1\" class=\"dataframe\">\n  <thead>\n    <tr style=\"text-align: right;\">\n      <th></th>\n      <th>File Name</th>\n      <th>Scan Number</th>\n      <th>Scan Retention Time</th>\n      <th>Num Experimental Peaks</th>\n      <th>Total Ion Current</th>\n      <th>Precursor Scan Number</th>\n      <th>Precursor Charge</th>\n      <th>Precursor MZ</th>\n      <th>Precursor Mass</th>\n      <th>Score</th>\n      <th>...</th>\n      <th>Localized Scores</th>\n      <th>Improvement Possible</th>\n      <th>Cumulative Target</th>\n      <th>Cumulative Decoy</th>\n      <th>QValue</th>\n      <th>Cumulative Target Notch</th>\n      <th>Cumulative Decoy Notch</th>\n      <th>QValue Notch</th>\n      <th>PEP</th>\n      <th>PEP_QValue</th>\n    </tr>\n  </thead>\n  <tbody>\n    <tr>\n      <th>0</th>\n      <td>120426_Jurkat_highLC_Frac14</td>\n      <td>19149</td>\n      <td>140.45874</td>\n      <td>186.0</td>\n      <td>2.620926e+06</td>\n      <td>19146</td>\n      <td>3.0</td>\n      <td>1187.22629</td>\n      <td>3558.65705</td>\n      <td>39.219</td>\n      <td>...</td>\n      <td></td>\n      <td></td>\n      <td>1</td>\n      <td>0</td>\n      <td>0.0</td>\n      <td>1</td>\n      <td>0</td>\n      <td>0.0</td>\n      <td>0.000028</td>\n      <td>0.000017</td>\n    </tr>\n    <tr>\n      <th>1</th>\n      <td>120426_Jurkat_highLC_Frac9</td>\n      <td>19892</td>\n      <td>150.09205</td>\n      <td>186.0</td>\n      <td>1.972297e+05</td>\n      <td>19887</td>\n      <td>3.0</td>\n      <td>1221.90388</td>\n      <td>3662.68981</td>\n      <td>39.198</td>\n      <td>...</td>\n      <td></td>\n      <td></td>\n      <td>2</td>\n      <td>0</td>\n      <td>0.0</td>\n      <td>2</td>\n      <td>0</td>\n      <td>0.0</td>\n      <td>0.000006</td>\n      <td>0.000003</td>\n    </tr>\n    <tr>\n      <th>2</th>\n      <td>120426_Jurkat_highLC_Frac17</td>\n      <td>22894</td>\n      <td>167.51914</td>\n      <td>200.0</td>\n      <td>1.162710e+07</td>\n      <td>22893</td>\n      <td>4.0</td>\n      <td>802.65041</td>\n      <td>3206.57254</td>\n      <td>39.164</td>\n      <td>...</td>\n      <td></td>\n      <td></td>\n      <td>3</td>\n      <td>0</td>\n      <td>0.0</td>\n      <td>3</td>\n      <td>0</td>\n      <td>0.0</td>\n      <td>0.000004</td>\n      <td>0.000002</td>\n    </tr>\n    <tr>\n      <th>3</th>\n      <td>120426_Jurkat_highLC_Frac23</td>\n      <td>14654</td>\n      <td>119.26644</td>\n      <td>200.0</td>\n      <td>3.137383e+06</td>\n      <td>14651</td>\n      <td>4.0</td>\n      <td>771.14514</td>\n      <td>3080.55145</td>\n      <td>38.355</td>\n      <td>...</td>\n      <td></td>\n      <td></td>\n      <td>4</td>\n      <td>0</td>\n      <td>0.0</td>\n      <td>4</td>\n      <td>0</td>\n      <td>0.0</td>\n      <td>0.002980</td>\n      <td>0.000382</td>\n    </tr>\n    <tr>\n      <th>4</th>\n      <td>120426_Jurkat_highLC_Frac20</td>\n      <td>18563</td>\n      <td>142.91097</td>\n      <td>200.0</td>\n      <td>1.478450e+06</td>\n      <td>18561</td>\n      <td>3.0</td>\n      <td>1240.64250</td>\n      <td>3718.90568</td>\n      <td>37.266</td>\n      <td>...</td>\n      <td></td>\n      <td></td>\n      <td>5</td>\n      <td>0</td>\n      <td>0.0</td>\n      <td>5</td>\n      <td>0</td>\n      <td>0.0</td>\n      <td>0.000013</td>\n      <td>0.000008</td>\n    </tr>\n  </tbody>\n</table>\n<p>5 rows × 54 columns</p>\n</div>"
     },
     "metadata": {},
     "execution_count": 18
    }
   ],
   "source": [
    "inferred.head()"
   ]
  },
  {
   "cell_type": "code",
   "execution_count": null,
   "metadata": {},
   "outputs": [],
   "source": []
  }
 ],
 "metadata": {
  "kernelspec": {
   "display_name": "Python 3",
   "language": "python",
   "name": "python3"
  },
  "language_info": {
   "codemirror_mode": {
    "name": "ipython",
    "version": 3
   },
   "file_extension": ".py",
   "mimetype": "text/x-python",
   "name": "python",
   "nbconvert_exporter": "python",
   "pygments_lexer": "ipython3",
   "version": "3.7.6-final"
  }
 },
 "nbformat": 4,
 "nbformat_minor": 4
}