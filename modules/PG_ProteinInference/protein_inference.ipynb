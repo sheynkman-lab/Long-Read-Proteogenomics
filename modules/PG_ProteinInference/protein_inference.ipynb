{
 "cells": [
  {
   "cell_type": "code",
   "execution_count": 3,
   "metadata": {},
   "outputs": [],
   "source": [
    "import pandas as pd"
   ]
  },
  {
   "cell_type": "code",
   "execution_count": 4,
   "metadata": {},
   "outputs": [],
   "source": [
    "idir = '/Users/bj8th/Documents/Lab-for-Proteoform-Systems-Biology/data/peptides/AllPeptides_PacBio.psmtsv'"
   ]
  },
  {
   "cell_type": "code",
   "execution_count": 22,
   "metadata": {},
   "outputs": [],
   "source": [
    "peptides = pd.read_csv(idir, sep = '\\t')\n",
    "below_fdr = peptides['QValue'] <= 0.01\n",
    "target = peptides['Decoy/Contaminant/Target'] == 'T'\n",
    "peptides = peptides[below_fdr & target]"
   ]
  },
  {
   "cell_type": "code",
   "execution_count": 23,
   "metadata": {},
   "outputs": [],
   "source": [
    "peptides['Protein Accession'] = peptides['Protein Accession'].str.split('|')"
   ]
  },
  {
   "cell_type": "code",
   "execution_count": 24,
   "metadata": {},
   "outputs": [],
   "source": [
    "peptides = peptides.explode('Protein Accession')"
   ]
  },
  {
   "cell_type": "code",
   "execution_count": 27,
   "metadata": {},
   "outputs": [],
   "source": [
    "peptides = peptides[['Protein Accession', 'Base Sequence']]"
   ]
  },
  {
   "cell_type": "code",
   "execution_count": 45,
   "metadata": {},
   "outputs": [],
   "source": [
    "peptide_dict = peptides.groupby('Base Sequence')['Protein Accession'].apply(list).to_dict()"
   ]
  },
  {
   "cell_type": "code",
   "execution_count": 46,
   "metadata": {},
   "outputs": [],
   "source": [
    "protein_dict = peptides.groupby('Protein Accession')['Base Sequence'].apply(list).to_dict()"
   ]
  },
  {
   "cell_type": "code",
   "execution_count": 42,
   "metadata": {},
   "outputs": [],
   "source": [
    "peptide_sizes = peptides.groupby('Base Sequence').size().reset_index().rename(columns = {0:'size'})\n",
    "single = peptide_sizes[peptide_sizes['size'] == 1]"
   ]
  },
  {
   "cell_type": "code",
   "execution_count": 76,
   "metadata": {},
   "outputs": [],
   "source": [
    "inferred = peptides[peptides['Base Sequence'].isin(single['Base Sequence'])]\n",
    "inferred = peptides[peptides['Protein Accession'].isin(inferred['Protein Accession'])]\n",
    "remaining = peptides[~peptides['Protein Accession'].isin(inferred['Protein Accession'])]"
   ]
  },
  {
   "cell_type": "code",
   "execution_count": 147,
   "metadata": {},
   "outputs": [],
   "source": [
    "def find_best_protein(remaining, original, protein_column):\n",
    "    \"\"\"\n",
    "    Finds best protein in remaining graph based on number\n",
    "    of peptides a protein matches to (# of edges a protein has). Choose max\n",
    "    If there are proteins with an equal number of maximum matched peptides\n",
    "    then those proteins compared to the original graph for number of edges \n",
    "    a protein has\n",
    "    \"\"\"\n",
    "    sizes = remaining.groupby(protein_column).size().reset_index().rename(columns = {0:'size'})\n",
    "    max_size = sizes['size'].max()\n",
    "    best_proteins = list(sizes[sizes['size'] == max_size ][protein_column])\n",
    "    if len(best_proteins) > 1:\n",
    "        subset = original[original[protein_column].isin(best_proteins)]\n",
    "        subsizes = subset.groupby(protein_column).size().reset_index().rename(columns = {0:'size'})\n",
    "        max_subsize = subsizes['size'].max()\n",
    "        best_proteins = list(subsizes[subsizes['size'] == max_subsize])\n",
    "    return best_proteins[0]\n",
    "\n",
    "\n",
    "\n",
    "def greedy_inference(original, protein_column = 'Protein Accession', peptide_column = 'Base Sequence'):\n",
    "    \"\"\"\n",
    "    Greedy protein inference algorithm for matching peptids to corresponding proteins\n",
    "\n",
    "    Notaion:\n",
    "    G : original graph\n",
    "    Gi : inferred graph\n",
    "    Gr : remaining graph\n",
    "    Gd: dropped graph\n",
    "    p : greedily selcted protein\n",
    "    s : peptides connected to p\n",
    "\n",
    "\n",
    "    Select peptides in G that only match to single protein\n",
    "    Add proteins corresponding to peptides and all attached peptides to Gi\n",
    "    Remove said proteins from  Gr\n",
    "    While Gr has edges connected proteins and peptides\n",
    "        Greedily select best protein p\n",
    "        Add p and connected peptides Gi\n",
    "        Add peptide-protein edges where protein is not p and peptide is in s in Gd\n",
    "        Remove edgees where peptides is in s from Gr\n",
    "    \n",
    "    Remake Gi and make Gd\n",
    "        Gi remade to contain all protein-peptide edges that connect to an inferred protein\n",
    "        Gd made to contain all protein-peptide edges that do not connect to an inferred protein\n",
    "\n",
    "    Parameters\n",
    "    ---------\n",
    "    original : pandas DataFrame\n",
    "        original peptide-protien graph\n",
    "    protein_column : str\n",
    "        column associated with protein accession\n",
    "    peptide_column : str\n",
    "        column associated with peptide\n",
    "\n",
    "    Returns\n",
    "    --------\n",
    "    inferred: pandas DataFrame\n",
    "        Gi, subgraph of G of proteins and their associated peptides\n",
    "    dropped: pandas DataFrame\n",
    "        Gd, subgraph of G of proteins and their associated peptides\n",
    "\n",
    "    \"\"\"\n",
    "\n",
    "    dropped = pd.DataFrame(columns = original.columns)\n",
    "    peptide_sizes = original.groupby(peptide_column).size().reset_index().rename(columns = {0:'size'})\n",
    "    single = peptide_sizes[peptide_sizes['size'] == 1]\n",
    "    inferred = original[original[peptide_column].isin(single[peptide_column])]\n",
    "    inferred = original[original[protein_column].isin(inferred[protein_column])]\n",
    "    remaining = original[~original[protein_column].isin(inferred[protein_column])]\n",
    "    inferred = [ inferred ]\n",
    "    # dropped = []\n",
    "\n",
    "    while len(remaining) > 0:\n",
    "        best_protein = find_best_protein(remaining, original, protein_column)\n",
    "        matches = remaining[remaining[protein_column] == best_protein]\n",
    "        tmp_peptides = list(matches[peptide_column])\n",
    "        inferred.append(matches)\n",
    "\n",
    "        is_matched_peptide = remaining[peptide_column].isin(tmp_peptides)\n",
    "        is_best_protein = remaining[protein_column] == best_protein\n",
    "        # dropped.append( remaining[~is_best_protein & is_matched_peptide] )\n",
    "        \n",
    "        remaining = remaining[~is_matched_peptide]\n",
    "        \n",
    "    inferred = pd.concat(inferred)\n",
    "    # dropped = pd.concat(dropped)\n",
    "\n",
    "    inferred_proteins = inferred[protein_column].unique()\n",
    "    inferred = original[original[protein_column].isin(inferred_proteins)]\n",
    "    dropped = original[~original[protein_column].isin(inferred_proteins)]\n",
    "    \n",
    "    return inferred, dropped\n",
    " \n",
    "\n",
    "        \n",
    "\n",
    "\n",
    "\n"
   ]
  },
  {
   "cell_type": "code",
   "execution_count": 148,
   "metadata": {},
   "outputs": [],
   "source": [
    "import time\n",
    "start = time.time()\n",
    "inferred, dropped = greedy_inference(peptides)\n",
    "stop = time.time()\n"
   ]
  },
  {
   "cell_type": "code",
   "execution_count": 149,
   "metadata": {},
   "outputs": [
    {
     "output_type": "stream",
     "name": "stdout",
     "text": [
      "36.61134672164917\n"
     ]
    }
   ],
   "source": [
    "print(stop-start)"
   ]
  },
  {
   "cell_type": "code",
   "execution_count": 150,
   "metadata": {},
   "outputs": [
    {
     "output_type": "stream",
     "name": "stdout",
     "text": [
      "Original 71672\nInferred 44025\nDropped 27647\nDropped + Inferred 71672\n"
     ]
    }
   ],
   "source": [
    "print(f\"Original {len(peptides)}\")\n",
    "print(f\"Inferred {len(inferred)}\")\n",
    "print(f\"Dropped {len(dropped)}\")\n",
    "print(f\"Dropped + Inferred {len(dropped) + len(inferred)}\")\n"
   ]
  },
  {
   "cell_type": "code",
   "execution_count": 63,
   "metadata": {},
   "outputs": [],
   "source": [
    "protein_bag = set()\n",
    "for pep in peptide_bag:\n",
    "    protein_bag = protein_bag.union(peptide_dict[pep])\n"
   ]
  },
  {
   "cell_type": "code",
   "execution_count": 64,
   "metadata": {},
   "outputs": [],
   "source": [
    "for protein in protein_bag:\n",
    "    peptide_bag = peptide_bag.union(protein_dict[protein])"
   ]
  },
  {
   "cell_type": "code",
   "execution_count": 65,
   "metadata": {},
   "outputs": [
    {
     "output_type": "execute_result",
     "data": {
      "text/plain": [
       "22413"
      ]
     },
     "metadata": {},
     "execution_count": 65
    }
   ],
   "source": [
    "len(peptide_bag)"
   ]
  },
  {
   "cell_type": "code",
   "execution_count": 61,
   "metadata": {},
   "outputs": [
    {
     "output_type": "execute_result",
     "data": {
      "text/plain": [
       "13810"
      ]
     },
     "metadata": {},
     "execution_count": 61
    }
   ],
   "source": [
    "len(single)"
   ]
  },
  {
   "cell_type": "code",
   "execution_count": null,
   "metadata": {},
   "outputs": [],
   "source": []
  }
 ],
 "metadata": {
  "kernelspec": {
   "display_name": "Python 3",
   "language": "python",
   "name": "python3"
  },
  "language_info": {
   "codemirror_mode": {
    "name": "ipython",
    "version": 3
   },
   "file_extension": ".py",
   "mimetype": "text/x-python",
   "name": "python",
   "nbconvert_exporter": "python",
   "pygments_lexer": "ipython3",
   "version": "3.7.6-final"
  }
 },
 "nbformat": 4,
 "nbformat_minor": 4
}