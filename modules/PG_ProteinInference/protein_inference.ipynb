{
 "cells": [
  {
   "cell_type": "code",
   "execution_count": 1,
   "metadata": {},
   "outputs": [],
   "source": [
    "import protein_inference"
   ]
  },
  {
   "cell_type": "code",
   "execution_count": 2,
   "metadata": {},
   "outputs": [],
   "source": [
    "filename = '/Users/bj8th/Documents/Lab-for-Proteoform-Systems-Biology/data/peptides/AllPeptides_PacBio.psmtsv'\n",
    "original = protein_inference.process_metamorpheus_file(filename)"
   ]
  },
  {
   "cell_type": "code",
   "execution_count": 3,
   "metadata": {},
   "outputs": [
    {
     "output_type": "stream",
     "name": "stdout",
     "text": [
      "25.1043918132782\n"
     ]
    }
   ],
   "source": [
    "import time\n",
    "start = time.time()\n",
    "inferred, dropped, rescued = protein_inference.greedy_inference(original)\n",
    "stop = time.time()\n",
    "print(stop-start)"
   ]
  },
  {
   "cell_type": "code",
   "execution_count": 6,
   "metadata": {},
   "outputs": [
    {
     "output_type": "stream",
     "name": "stdout",
     "text": [
      "Original \t\t71672\nInferred \t\t45322\nDropped \t\t26350\nDropped + Inferred \t71672\n"
     ]
    }
   ],
   "source": [
    "print(f\"Original \\t\\t{len(original)}\")\n",
    "print(f\"Inferred \\t\\t{len(inferred)}\")\n",
    "print(f\"Dropped \\t\\t{len(dropped)}\")\n",
    "print(f\"Dropped + Inferred \\t{len(dropped) + len(inferred)}\")\n"
   ]
  },
  {
   "cell_type": "code",
   "execution_count": null,
   "metadata": {},
   "outputs": [],
   "source": []
  }
 ],
 "metadata": {
  "kernelspec": {
   "display_name": "Python 3",
   "language": "python",
   "name": "python3"
  },
  "language_info": {
   "codemirror_mode": {
    "name": "ipython",
    "version": 3
   },
   "file_extension": ".py",
   "mimetype": "text/x-python",
   "name": "python",
   "nbconvert_exporter": "python",
   "pygments_lexer": "ipython3",
   "version": "3.7.6-final"
  }
 },
 "nbformat": 4,
 "nbformat_minor": 4
}