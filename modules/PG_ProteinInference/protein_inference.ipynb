{
 "cells": [
  {
   "cell_type": "code",
   "execution_count": 16,
   "metadata": {},
   "outputs": [],
   "source": [
    "\n",
    "import argparse\n",
    "\n",
    "import pandas as pd\n",
    "\n",
    "\n",
    "def process_metamorpheus_file(filename):\n",
    "    \"\"\"\n",
    "    Process MetaMorpheus AllPeptides file \n",
    "    Keeps only target peptieds with FDR <= 0.01\n",
    "    Explodes 'Protein Accession' column into individual rows\n",
    "\n",
    "    Parameters\n",
    "    ----------\n",
    "    filename : str\n",
    "        MetaMorpheus AllPeptides file location\n",
    "    \n",
    "    Returns\n",
    "    --------\n",
    "    original : pandas DataFrame\n",
    "        exploded AllPeptieds dataframe\n",
    "    \"\"\"\n",
    "    original = pd.read_csv(filename, sep = '\\t')\n",
    "    below_fdr = original['QValue'] <= 0.01\n",
    "    target = original['Decoy/Contaminant/Target'] == 'T'\n",
    "    original = original[below_fdr & target]\n",
    "    original['Protein Accession'] = original['Protein Accession'].str.split('|')\n",
    "    original = original.explode('Protein Accession')\n",
    "    return original\n",
    "\n",
    "\n",
    "def find_best_protein(remaining, original, protein_column):\n",
    "    \"\"\"\n",
    "    Finds best protein in remaining graph based on number\n",
    "    of peptides a protein matches to (# of edges a protein has). Choose max\n",
    "    If there are proteins with an equal number of maximum matched peptides\n",
    "    then those proteins compared to the original graph for number of edges \n",
    "    a protein has\n",
    "    \"\"\"\n",
    "    sizes = remaining.groupby(protein_column).size().reset_index().rename(columns = {0:'size'})\n",
    "    max_size = sizes['size'].max()\n",
    "    best_proteins = list(sizes[sizes['size'] == max_size ][protein_column])\n",
    "    if len(best_proteins) > 1:\n",
    "        subset = original[original[protein_column].isin(best_proteins)]\n",
    "        subsizes = subset.groupby(protein_column).size().reset_index().rename(columns = {0:'size'})\n",
    "        max_subsize = subsizes['size'].max()\n",
    "        best_proteins = list(subsizes[subsizes['size'] == max_subsize][protein_column])\n",
    "    return best_proteins[0]\n",
    "\n",
    "\n",
    "\n",
    "def greedy_inference(original, protein_column = 'Protein Accession', peptide_column = 'Base Sequence'):\n",
    "    \"\"\"\n",
    "    Greedy protein inference algorithm for matching peptids to corresponding proteins\n",
    "\n",
    "    Notaion:\n",
    "    G : original graph\n",
    "    Gi : inferred graph\n",
    "    Gr : remaining graph\n",
    "    Gd: dropped graph\n",
    "    p : greedily selcted protein\n",
    "    s : peptides connected to p\n",
    "\n",
    "\n",
    "    Select peptides in G that only match to single protein\n",
    "    Add proteins corresponding to peptides and all attached peptides to Gi\n",
    "    Remove said proteins from  Gr\n",
    "    While Gr has edges connected proteins and peptides\n",
    "        Greedily select best protein p\n",
    "        Add p and connected peptides Gi\n",
    "        Add peptide-protein edges where protein is not p and peptide is in s in Gd\n",
    "        Remove edgees where peptides is in s from Gr\n",
    "    \n",
    "    Remake Gi and make Gd\n",
    "        Gi remade to contain all protein-peptide edges that connect to an inferred protein\n",
    "        Gd made to contain all protein-peptide edges that do not connect to an inferred protein\n",
    "\n",
    "    Parameters\n",
    "    ---------\n",
    "    original : pandas DataFrame\n",
    "        original peptide-protien graph\n",
    "    protein_column : str\n",
    "        column associated with protein accession\n",
    "    peptide_column : str\n",
    "        column associated with peptide\n",
    "\n",
    "    Returns\n",
    "    --------\n",
    "    inferred: pandas DataFrame\n",
    "        Gi, subgraph of G of proteins and their associated peptides\n",
    "    dropped: pandas DataFrame\n",
    "        Gd, subgraph of G of proteins and their associated peptides\n",
    "\n",
    "    \"\"\"\n",
    "\n",
    "    # Find peptides that attach to only one protein\n",
    "    # Add those proteins to inferred proteins bag\n",
    "    # Remove any peptides that connect to inferred proteins\n",
    "    peptide_sizes = original.groupby(peptide_column).size().reset_index().rename(columns = {0:'size'})\n",
    "    single_peptides = list(peptide_sizes[peptide_sizes['size'] == 1][peptide_column])\n",
    "    inferred_proteins = list(original[original[peptide_column].isin(single_peptides)][protein_column])\n",
    "    attached_peptides = list(original[original[protein_column].isin(inferred_proteins)][peptide_column])\n",
    "    \n",
    "    remaining = original[~original[peptide_column].isin(attached_peptides)]\n",
    "\n",
    "    while len(remaining) > 0:\n",
    "        # Greedy select best protein\n",
    "        best_protein = find_best_protein(remaining, original, protein_column)\n",
    "        inferred_proteins.append(best_protein)\n",
    "        # Remove peptides that connect to protein from remaining\n",
    "        attached_peptides = list(remaining[remaining[protein_column] == best_protein][peptide_column])\n",
    "        is_matched_peptide = remaining[peptide_column].isin(attached_peptides)\n",
    "        remaining = remaining[~is_matched_peptide]\n",
    "    \n",
    "    inferred = original[original[protein_column].isin(inferred_proteins)]\n",
    "    dropped = original[~original[protein_column].isin(inferred_proteins)]\n",
    "    \n",
    "    return inferred, dropped\n",
    " \n"
   ]
  },
  {
   "cell_type": "code",
   "execution_count": 2,
   "metadata": {},
   "outputs": [],
   "source": [
    "filename = '/Users/bj8th/Documents/Lab-for-Proteoform-Systems-Biology/data/peptides/AllPeptides_PacBio.psmtsv'\n",
    "original = process_metamorpheus_file(filename)"
   ]
  },
  {
   "cell_type": "code",
   "execution_count": 18,
   "metadata": {},
   "outputs": [
    {
     "output_type": "stream",
     "name": "stdout",
     "text": [
      "22.31095004081726\n"
     ]
    }
   ],
   "source": [
    "import time\n",
    "start = time.time()\n",
    "inferred, dropped = greedy_inference(original)\n",
    "stop = time.time()\n",
    "print(stop-start)"
   ]
  },
  {
   "cell_type": "code",
   "execution_count": 15,
   "metadata": {},
   "outputs": [
    {
     "output_type": "stream",
     "name": "stdout",
     "text": [
      "57.87800621986389\n"
     ]
    }
   ],
   "source": []
  },
  {
   "cell_type": "code",
   "execution_count": 21,
   "metadata": {},
   "outputs": [
    {
     "output_type": "stream",
     "name": "stdout",
     "text": [
      "Original 71672\nInferred 36469\nDropped 35203\nDropped + Inferred 71672\n"
     ]
    }
   ],
   "source": [
    "print(f\"Original {len(original)}\")\n",
    "print(f\"Inferred {len(inferred)}\")\n",
    "print(f\"Dropped {len(dropped)}\")\n",
    "print(f\"Dropped + Inferred {len(dropped) + len(inferred)}\")\n"
   ]
  },
  {
   "cell_type": "code",
   "execution_count": 22,
   "metadata": {},
   "outputs": [],
   "source": [
    "inferred_set = inferred.groupby('Protein Accession')['Base Sequence'].apply(set)\n",
    "dropped_set = dropped.groupby('Protein Accession')['Base Sequence'].apply(set)"
   ]
  },
  {
   "cell_type": "code",
   "execution_count": 37,
   "metadata": {
    "tags": []
   },
   "outputs": [],
   "source": [
    "share_peptides = set()\n",
    "# share_peptides = []\n",
    "for d_acc, d_set in dropped_set.iteritems():\n",
    "    for i_acc, i_set in inferred_set.iteritems():\n",
    "        if d_set == i_set:\n",
    "            share_peptides = share_peptides.union([d_acc])\n",
    "            # share_peptides.append(d_acc)\n",
    "   "
   ]
  },
  {
   "cell_type": "code",
   "execution_count": 38,
   "metadata": {},
   "outputs": [
    {
     "output_type": "execute_result",
     "data": {
      "text/plain": [
       "13"
      ]
     },
     "metadata": {},
     "execution_count": 38
    }
   ],
   "source": [
    "len(share_peptides)"
   ]
  },
  {
   "cell_type": "code",
   "execution_count": 36,
   "metadata": {},
   "outputs": [
    {
     "output_type": "execute_result",
     "data": {
      "text/plain": [
       "1256"
      ]
     },
     "metadata": {},
     "execution_count": 36
    }
   ],
   "source": [
    "len(set(share_peptides))"
   ]
  },
  {
   "cell_type": "code",
   "execution_count": 39,
   "metadata": {},
   "outputs": [
    {
     "output_type": "execute_result",
     "data": {
      "text/plain": [
       "{'.', '0', '1', '2', '3', '4', '5', '6', '7', '8', '9', 'B', 'P'}"
      ]
     },
     "metadata": {},
     "execution_count": 39
    }
   ],
   "source": [
    "share_peptides"
   ]
  },
  {
   "cell_type": "code",
   "execution_count": null,
   "metadata": {},
   "outputs": [],
   "source": []
  }
 ],
 "metadata": {
  "kernelspec": {
   "display_name": "Python 3",
   "language": "python",
   "name": "python3"
  },
  "language_info": {
   "codemirror_mode": {
    "name": "ipython",
    "version": 3
   },
   "file_extension": ".py",
   "mimetype": "text/x-python",
   "name": "python",
   "nbconvert_exporter": "python",
   "pygments_lexer": "ipython3",
   "version": "3.7.6-final"
  }
 },
 "nbformat": 4,
 "nbformat_minor": 4
}